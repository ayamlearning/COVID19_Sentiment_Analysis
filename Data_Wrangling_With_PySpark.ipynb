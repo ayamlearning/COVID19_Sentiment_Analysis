{
  "nbformat": 4,
  "nbformat_minor": 0,
  "metadata": {
    "colab": {
      "name": "Data_Wrangling_With_PySpark.ipynb",
      "provenance": [],
      "private_outputs": true
    },
    "kernelspec": {
      "name": "python3",
      "display_name": "Python 3"
    }
  },
  "cells": [
    {
      "cell_type": "code",
      "metadata": {
        "id": "a_VcRJY24hoV",
        "colab_type": "code",
        "colab": {}
      },
      "source": [
        "#!pip install pyspark\n",
        "from pyspark.sql import SparkSession\n",
        "from pyspark.sql.functions import *\n",
        "from pyspark.sql.types import StringType,IntegerType\n",
        "\n",
        "import datetime\n",
        "\n",
        "import numpy as np\n",
        "import pandas as pd\n",
        "%matplotlib\n",
        "from matplotlib import pyplot as plt"
      ],
      "execution_count": 0,
      "outputs": []
    },
    {
      "cell_type": "code",
      "metadata": {
        "id": "5rJL2FTF4wlK",
        "colab_type": "code",
        "colab": {}
      },
      "source": [
        "path=\"data/COVID19_ZM_transformedTweets.csv\"\n",
        "\n",
        "spark = SparkSession \\\n",
        "    .builder \\\n",
        "    .appName(\"COVID-19 Twitter Sentiment Analysis\") \\\n",
        "    .config(\"spark.some.config.option\", \"some-value\") \\\n",
        "    .getOrCreate()"
      ],
      "execution_count": 0,
      "outputs": []
    },
    {
      "cell_type": "code",
      "metadata": {
        "id": "h0E7k0ZJ5KD3",
        "colab_type": "code",
        "colab": {}
      },
      "source": [
        "df = spark.read.csv(path, header=True, sep=\",\")\n",
        "df.take(5)"
      ],
      "execution_count": 0,
      "outputs": []
    },
    {
      "cell_type": "code",
      "metadata": {
        "id": "frrorlfN8l9R",
        "colab_type": "code",
        "colab": {}
      },
      "source": [
        "df.select(\"user_screen_name\").dropDuplicates().sort(\"user_screen_name\").show()"
      ],
      "execution_count": 0,
      "outputs": []
    },
    {
      "cell_type": "code",
      "metadata": {
        "id": "C7u3CaN99CS7",
        "colab_type": "code",
        "colab": {}
      },
      "source": [
        "df=df.withColumn(\"date\", to_date(df.created_at))\n",
        "df.take(5)"
      ],
      "execution_count": 0,
      "outputs": []
    },
    {
      "cell_type": "code",
      "metadata": {
        "id": "__j8MzRU_rwU",
        "colab_type": "code",
        "colab": {}
      },
      "source": [
        "df=df.withColumn(\"month\", month(df.date))\n",
        "df.take(5)"
      ],
      "execution_count": 0,
      "outputs": []
    },
    {
      "cell_type": "code",
      "metadata": {
        "id": "oi5wh26iCx10",
        "colab_type": "code",
        "colab": {}
      },
      "source": [
        "df=df.withColumn(\"day_of_month\", dayofmonth(df.date))\n",
        "df.take(5)"
      ],
      "execution_count": 0,
      "outputs": []
    },
    {
      "cell_type": "code",
      "metadata": {
        "id": "BIGubgl_GU8u",
        "colab_type": "code",
        "colab": {}
      },
      "source": [
        "df=df.withColumn(\"year\", year(df.date))\n",
        "df.take(5)"
      ],
      "execution_count": 0,
      "outputs": []
    },
    {
      "cell_type": "code",
      "metadata": {
        "id": "IHHSHf0iEGIL",
        "colab_type": "code",
        "colab": {}
      },
      "source": [
        "df=df.withColumn(\"hour\", hour(df.created_at))\n",
        "df.take(5)"
      ],
      "execution_count": 0,
      "outputs": []
    },
    {
      "cell_type": "code",
      "metadata": {
        "id": "MGdhX5muEZcY",
        "colab_type": "code",
        "colab": {}
      },
      "source": [
        "# TODO: get number of tweets per day\n",
        "num_tweets_per_day=df.filter(df.year==2020).groupBy(df.date).count().orderBy(df.date)\n",
        "num_tweets_per_day.sort(\"count\",ascending=False).show()"
      ],
      "execution_count": 0,
      "outputs": []
    },
    {
      "cell_type": "code",
      "metadata": {
        "id": "4n7Y5wgLFbFV",
        "colab_type": "code",
        "colab": {}
      },
      "source": [
        "# TODO: who tweets the most about COVID-19\n",
        "freq_tweeters=df.select(df.user_screen_name).groupBy(df.user_screen_name).count()\n",
        "freq_tweeters.sort(\"count\",ascending=False).show()"
      ],
      "execution_count": 0,
      "outputs": []
    },
    {
      "cell_type": "code",
      "metadata": {
        "id": "K50qzNbdHBg9",
        "colab_type": "code",
        "colab": {}
      },
      "source": [
        ""
      ],
      "execution_count": 0,
      "outputs": []
    },
    {
      "cell_type": "code",
      "metadata": {
        "id": "0t8fpqyQH3Bu",
        "colab_type": "code",
        "colab": {}
      },
      "source": [
        ""
      ],
      "execution_count": 0,
      "outputs": []
    }
  ]
}