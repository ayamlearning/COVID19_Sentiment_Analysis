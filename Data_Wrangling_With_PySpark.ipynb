{
  "nbformat": 4,
  "nbformat_minor": 0,
  "metadata": {
    "colab": {
      "name": "Data_Wrangling_With_PySpark.ipynb",
      "provenance": [],
      "private_outputs": true
    },
    "kernelspec": {
      "name": "python3",
      "display_name": "Python 3"
    }
  },
  "cells": [
    {
      "cell_type": "code",
      "metadata": {
        "id": "a_VcRJY24hoV",
        "colab_type": "code",
        "colab": {}
      },
      "source": [
        "#!pip install pyspark\n",
        "from pyspark.sql import SparkSession\n",
        "from pyspark.sql.functions import *\n",
        "from pyspark.sql.types import *\n",
        "\n",
        "import datetime\n",
        "\n",
        "import numpy as np\n",
        "import pandas as pd\n",
        "%matplotlib\n",
        "from matplotlib import pyplot as plt"
      ],
      "execution_count": 0,
      "outputs": []
    },
    {
      "cell_type": "code",
      "metadata": {
        "id": "5rJL2FTF4wlK",
        "colab_type": "code",
        "colab": {}
      },
      "source": [
        "path=\"data/COVID19_ZM_transformedTweets.csv\"\n",
        "\n",
        "spark = SparkSession \\\n",
        "    .builder \\\n",
        "    .appName(\"COVID-19 Twitter Sentiment Analysis\") \\\n",
        "    .config(\"spark.some.config.option\", \"some-value\") \\\n",
        "    .getOrCreate()"
      ],
      "execution_count": 0,
      "outputs": []
    },
    {
      "cell_type": "code",
      "metadata": {
        "id": "h0E7k0ZJ5KD3",
        "colab_type": "code",
        "colab": {}
      },
      "source": [
        "df = spark.read.csv(path, header=True, sep=\",\")\n",
        "print(df.schema)"
      ],
      "execution_count": 0,
      "outputs": []
    },
    {
      "cell_type": "code",
      "metadata": {
        "id": "_PnkrpJb5tg9",
        "colab_type": "code",
        "colab": {}
      },
      "source": [
        "df = df.withColumn(\"dateTime\", df[\"date\"])\n",
        "df = df.withColumn(\"date\", df[\"date\"].cast(DateType()))\n",
        "df = df.withColumn(\"time\", df[\"dateTime\"].cast(TimestampType()))\n",
        "df = df.withColumn(\"retweets\", df[\"retweets\"].cast(IntegerType()))\n",
        "\n",
        "df.take(5)\n",
        "\n"
      ],
      "execution_count": 0,
      "outputs": []
    },
    {
      "cell_type": "code",
      "metadata": {
        "id": "frrorlfN8l9R",
        "colab_type": "code",
        "colab": {}
      },
      "source": [
        "df.select(\"username\").dropDuplicates().sort(\"username\").show()"
      ],
      "execution_count": 0,
      "outputs": []
    },
    {
      "cell_type": "code",
      "metadata": {
        "id": "__j8MzRU_rwU",
        "colab_type": "code",
        "colab": {}
      },
      "source": [
        "df=df.withColumn(\"month\", month(df.date))\n",
        "df.take(5)"
      ],
      "execution_count": 0,
      "outputs": []
    },
    {
      "cell_type": "code",
      "metadata": {
        "id": "oi5wh26iCx10",
        "colab_type": "code",
        "colab": {}
      },
      "source": [
        "df=df.withColumn(\"day_of_month\", dayofmonth(df.date))\n",
        "df.take(5)"
      ],
      "execution_count": 0,
      "outputs": []
    },
    {
      "cell_type": "code",
      "metadata": {
        "id": "BIGubgl_GU8u",
        "colab_type": "code",
        "colab": {}
      },
      "source": [
        "df=df.withColumn(\"year\", year(df.date))\n",
        "df.take(5)"
      ],
      "execution_count": 0,
      "outputs": []
    },
    {
      "cell_type": "code",
      "metadata": {
        "id": "IHHSHf0iEGIL",
        "colab_type": "code",
        "colab": {}
      },
      "source": [
        "df=df.withColumn(\"hour\", hour(df.time))\n",
        "df.take(5)"
      ],
      "execution_count": 0,
      "outputs": []
    },
    {
      "cell_type": "code",
      "metadata": {
        "id": "MGdhX5muEZcY",
        "colab_type": "code",
        "colab": {}
      },
      "source": [
        "# TODO: get number of tweets per day\n",
        "num_tweets_per_day=df.select(\"*\").groupBy(df.date).count().orderBy(df.date)\n",
        "num_tweets_per_day.sort(\"date\",ascending=True).head(5)"
      ],
      "execution_count": 0,
      "outputs": []
    },
    {
      "cell_type": "code",
      "metadata": {
        "id": "_XNLIgTrsHce",
        "colab_type": "code",
        "colab": {}
      },
      "source": [
        "# TODO: Check peoples feeling towards covid\n",
        "retweets_per_day=df.select(\"retweets\",\"date\").groupBy(\"date\").sum(\"retweets\")\n",
        "retweets_per_day.sort(\"date\",ascending=True).head(100)"
      ],
      "execution_count": 0,
      "outputs": []
    },
    {
      "cell_type": "code",
      "metadata": {
        "id": "3Le9JU7PhVjy",
        "colab_type": "code",
        "colab": {}
      },
      "source": [
        "num_tweets_per_day.head(10)"
      ],
      "execution_count": 0,
      "outputs": []
    },
    {
      "cell_type": "code",
      "metadata": {
        "id": "4n7Y5wgLFbFV",
        "colab_type": "code",
        "colab": {}
      },
      "source": [
        "# TODO: who tweets the most about COVID-19\n",
        "freq_tweeters=df.select(df.username).groupBy(df.username).count()\n",
        "freq_tweeters.sort(\"count\",ascending=False).show()"
      ],
      "execution_count": 0,
      "outputs": []
    },
    {
      "cell_type": "code",
      "metadata": {
        "id": "K50qzNbdHBg9",
        "colab_type": "code",
        "colab": {}
      },
      "source": [
        "# TODO: Check which hour people tweet the most\n",
        "hours_with_most_tweets=df.select('*').groupBy(df.hour).count()\n",
        "hours_with_most_tweets.sort(\"count\",ascending=False).show()"
      ],
      "execution_count": 0,
      "outputs": []
    },
    {
      "cell_type": "code",
      "metadata": {
        "id": "0t8fpqyQH3Bu",
        "colab_type": "code",
        "colab": {}
      },
      "source": [
        "# TODO: Check peoples feeling towards covid\n",
        "retweets_per_hr=df.select(\"retweets\",\"hour\").groupBy(\"hour\").sum(\"retweets\")\n",
        "retweets_per_hr.sort(\"hour\",ascending=False).show()"
      ],
      "execution_count": 0,
      "outputs": []
    },
    {
      "cell_type": "code",
      "metadata": {
        "id": "2aG8gX4QSxJx",
        "colab_type": "code",
        "colab": {}
      },
      "source": [
        "# TODO: From the people with large following, based on the retwee\n",
        "df.where(df.hour==23).select(\"retweets\",\"hour\").show()"
      ],
      "execution_count": 0,
      "outputs": []
    },
    {
      "cell_type": "code",
      "metadata": {
        "id": "k30c8OtGTNNI",
        "colab_type": "code",
        "colab": {}
      },
      "source": [
        "mwebantu_tweets=df.filter(df.username==\"Mwebantu\")\n",
        "mwebantu_tweets.show()"
      ],
      "execution_count": 0,
      "outputs": []
    },
    {
      "cell_type": "code",
      "metadata": {
        "id": "1dpCeMJXTlaR",
        "colab_type": "code",
        "colab": {}
      },
      "source": [
        ""
      ],
      "execution_count": 0,
      "outputs": []
    }
  ]
}