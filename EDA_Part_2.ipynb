{
 "cells": [
  {
   "cell_type": "code",
   "execution_count": 10,
   "metadata": {
    "colab": {
     "base_uri": "https://localhost:8080/",
     "height": 146
    },
    "colab_type": "code",
    "id": "5b5kFeDuU_CU",
    "outputId": "08c7bb02-ae82-493e-9221-a9ad48196f3b"
   },
   "outputs": [],
   "source": [
    "import pandas as pd\n",
    "import utils"
   ]
  },
  {
   "cell_type": "code",
   "execution_count": 11,
   "metadata": {
    "colab": {
     "base_uri": "https://localhost:8080/",
     "height": 1000
    },
    "colab_type": "code",
    "id": "3RcVNaJZU_Cq",
    "outputId": "93976021-637b-4268-e416-e4e3b1d5689d"
   },
   "outputs": [
    {
     "name": "stdout",
     "output_type": "stream",
     "text": [
      "(5232, 10)\n"
     ]
    },
    {
     "data": {
      "text/html": [
       "<div>\n",
       "<style scoped>\n",
       "    .dataframe tbody tr th:only-of-type {\n",
       "        vertical-align: middle;\n",
       "    }\n",
       "\n",
       "    .dataframe tbody tr th {\n",
       "        vertical-align: top;\n",
       "    }\n",
       "\n",
       "    .dataframe thead th {\n",
       "        text-align: right;\n",
       "    }\n",
       "</style>\n",
       "<table border=\"1\" class=\"dataframe\">\n",
       "  <thead>\n",
       "    <tr style=\"text-align: right;\">\n",
       "      <th></th>\n",
       "      <th>Unnamed: 0</th>\n",
       "      <th>Hashtags</th>\n",
       "      <th>Sentiment</th>\n",
       "      <th>SentimentClass</th>\n",
       "      <th>date</th>\n",
       "      <th>geo</th>\n",
       "      <th>id</th>\n",
       "      <th>retweets</th>\n",
       "      <th>text</th>\n",
       "      <th>username</th>\n",
       "    </tr>\n",
       "  </thead>\n",
       "  <tbody>\n",
       "    <tr>\n",
       "      <td>0</td>\n",
       "      <td>0</td>\n",
       "      <td>NaN</td>\n",
       "      <td>-0.5</td>\n",
       "      <td>Negative</td>\n",
       "      <td>2020-05-13 07:07:33+00:00</td>\n",
       "      <td>NaN</td>\n",
       "      <td>1260466697661808642</td>\n",
       "      <td>0</td>\n",
       "      <td>Zambia May Not Get IMF Covid Loan Because It H...</td>\n",
       "      <td>ZambianObserver</td>\n",
       "    </tr>\n",
       "  </tbody>\n",
       "</table>\n",
       "</div>"
      ],
      "text/plain": [
       "   Unnamed: 0 Hashtags  Sentiment SentimentClass                       date  \\\n",
       "0           0      NaN       -0.5       Negative  2020-05-13 07:07:33+00:00   \n",
       "\n",
       "   geo                   id  retweets  \\\n",
       "0  NaN  1260466697661808642         0   \n",
       "\n",
       "                                                text         username  \n",
       "0  Zambia May Not Get IMF Covid Loan Because It H...  ZambianObserver  "
      ]
     },
     "execution_count": 11,
     "metadata": {},
     "output_type": "execute_result"
    }
   ],
   "source": [
    "path = 'data/processed'\n",
    "df = pd.read_csv(path+\"/COVID19_ZM_transformedTweets.csv\")\n",
    "print(df.shape)\n",
    "df.head(1)"
   ]
  },
  {
   "cell_type": "code",
   "execution_count": 12,
   "metadata": {},
   "outputs": [
    {
     "data": {
      "text/html": [
       "<div>\n",
       "<style scoped>\n",
       "    .dataframe tbody tr th:only-of-type {\n",
       "        vertical-align: middle;\n",
       "    }\n",
       "\n",
       "    .dataframe tbody tr th {\n",
       "        vertical-align: top;\n",
       "    }\n",
       "\n",
       "    .dataframe thead th {\n",
       "        text-align: right;\n",
       "    }\n",
       "</style>\n",
       "<table border=\"1\" class=\"dataframe\">\n",
       "  <thead>\n",
       "    <tr style=\"text-align: right;\">\n",
       "      <th></th>\n",
       "      <th>Unnamed: 0</th>\n",
       "      <th>Hashtags</th>\n",
       "      <th>Sentiment</th>\n",
       "      <th>SentimentClass</th>\n",
       "      <th>date</th>\n",
       "      <th>geo</th>\n",
       "      <th>id</th>\n",
       "      <th>retweets</th>\n",
       "      <th>text</th>\n",
       "      <th>username</th>\n",
       "      <th>created_at</th>\n",
       "    </tr>\n",
       "  </thead>\n",
       "  <tbody>\n",
       "    <tr>\n",
       "      <td>0</td>\n",
       "      <td>0</td>\n",
       "      <td>NaN</td>\n",
       "      <td>-0.5</td>\n",
       "      <td>Negative</td>\n",
       "      <td>2020-05-13</td>\n",
       "      <td>NaN</td>\n",
       "      <td>1260466697661808642</td>\n",
       "      <td>0</td>\n",
       "      <td>Zambia May Not Get IMF Covid Loan Because It H...</td>\n",
       "      <td>ZambianObserver</td>\n",
       "      <td>2020-05-13 07:07:33+00:00</td>\n",
       "    </tr>\n",
       "  </tbody>\n",
       "</table>\n",
       "</div>"
      ],
      "text/plain": [
       "   Unnamed: 0 Hashtags  Sentiment SentimentClass        date  geo  \\\n",
       "0           0      NaN       -0.5       Negative  2020-05-13  NaN   \n",
       "\n",
       "                    id  retweets  \\\n",
       "0  1260466697661808642         0   \n",
       "\n",
       "                                                text         username  \\\n",
       "0  Zambia May Not Get IMF Covid Loan Because It H...  ZambianObserver   \n",
       "\n",
       "                 created_at  \n",
       "0 2020-05-13 07:07:33+00:00  "
      ]
     },
     "execution_count": 12,
     "metadata": {},
     "output_type": "execute_result"
    }
   ],
   "source": [
    "df['created_at'] =  pd.to_datetime(df['date'])\n",
    "df['date'] =  pd.to_datetime(df['created_at']).dt.date\n",
    "df.head(1)"
   ]
  },
  {
   "cell_type": "code",
   "execution_count": 13,
   "metadata": {
    "colab": {
     "base_uri": "https://localhost:8080/",
     "height": 182
    },
    "colab_type": "code",
    "id": "a3xue51WfM3Q",
    "outputId": "527cc49f-9f34-48f5-b104-43b002694a28"
   },
   "outputs": [],
   "source": [
    "start_date = \"2020-03-17\"\n",
    "stop_date = \"2020-03-27\"\n",
    "\n",
    "meanless_words=['rt','read','chilufya','world','would','fight','de','people','south','http','https','www','due','says','total','take','amp','dr','com', \\\n",
    "                    'today','health','minister','records','w','covid_19','like', \\\n",
    "                    'covid-19','zambia','covid','coronavirus','zambian','country','help','crisis', \\\n",
    "                    'via','us','chng','cases','case','first','countries',\\\n",
    "                    'two','medical','amid','nigeria','global','outbreak','must','confirm','confirmed','virus',\\\n",
    "                   'time','kenya','one','covid19','africa','news','update','let','confirms', \\\n",
    "                    'ministry','live','zimbabwe','corona','botswana', 'burundi','need', 'central' ,'african','republic', 'cote','ivoire', \\\n",
    "                'eritrea','tests','ethiopia', 'kenya', 'malawi', 'mozambique', 'namibia', \\\n",
    "                    'rwanda','deaths','president','south','gambia','follow','town','africa','100th','igshid', \\\n",
    "                    'eswatini','recorded','uganda','24hrs','new','pandemic','please','records','march','testing',\n",
    "                   'nation','number','facebook','reach','still','liberia','p','angola','positive','could','instagram']\n",
    "\n",
    "get_tweets=utils.get_tweet_for_specific_range(start_date,stop_date,df)\n",
    "\n",
    "tweet_txt=get_tweets[\"text\"]\n",
    "merged_text_col=utils.merge_df_col_val(tweet_txt)\n",
    "\n",
    "remove_RT_from_text=utils.remove_RT(merged_text_col)\n",
    "punct_rmvd_from_txt=utils.remove_punct_marks(merged_text_col)\n",
    "stp_wrds_rmvd_from_txt=utils.remove_stop_words(punct_rmvd_from_txt)\n",
    "meanless_wrds_rmvd_from_txt=utils.remove_meaninglesswords(stp_wrds_rmvd_from_txt,meanless_words)\n",
    "rmv_numbers_from_txt=utils.remove_numeric(meanless_wrds_rmvd_from_txt)"
   ]
  },
  {
   "cell_type": "code",
   "execution_count": 14,
   "metadata": {},
   "outputs": [
    {
     "data": {
      "text/html": [
       "<div>\n",
       "<style scoped>\n",
       "    .dataframe tbody tr th:only-of-type {\n",
       "        vertical-align: middle;\n",
       "    }\n",
       "\n",
       "    .dataframe tbody tr th {\n",
       "        vertical-align: top;\n",
       "    }\n",
       "\n",
       "    .dataframe thead th {\n",
       "        text-align: right;\n",
       "    }\n",
       "</style>\n",
       "<table border=\"1\" class=\"dataframe\">\n",
       "  <thead>\n",
       "    <tr style=\"text-align: right;\">\n",
       "      <th></th>\n",
       "      <th>word</th>\n",
       "      <th>frequency</th>\n",
       "    </tr>\n",
       "  </thead>\n",
       "  <tbody>\n",
       "    <tr>\n",
       "      <td>0</td>\n",
       "      <td>close</td>\n",
       "      <td>99</td>\n",
       "    </tr>\n",
       "    <tr>\n",
       "      <td>1</td>\n",
       "      <td>borders</td>\n",
       "      <td>92</td>\n",
       "    </tr>\n",
       "    <tr>\n",
       "      <td>2</td>\n",
       "      <td>airport</td>\n",
       "      <td>77</td>\n",
       "    </tr>\n",
       "    <tr>\n",
       "      <td>3</td>\n",
       "      <td>sign</td>\n",
       "      <td>73</td>\n",
       "    </tr>\n",
       "    <tr>\n",
       "      <td>4</td>\n",
       "      <td>petition</td>\n",
       "      <td>70</td>\n",
       "    </tr>\n",
       "  </tbody>\n",
       "</table>\n",
       "</div>"
      ],
      "text/plain": [
       "       word  frequency\n",
       "0     close         99\n",
       "1   borders         92\n",
       "2   airport         77\n",
       "3      sign         73\n",
       "4  petition         70"
      ]
     },
     "execution_count": 14,
     "metadata": {},
     "output_type": "execute_result"
    }
   ],
   "source": [
    "import matplotlib.pyplot as plt\n",
    "import seaborn as sns\n",
    "import nltk\n",
    "\n",
    "%matplotlib inline\n",
    "\n",
    "sns.set(rc={'figure.figsize':(11.7,8.27)})\n",
    "sns.set_style('darkgrid')\n",
    "\n",
    "#create freq and dist plot\n",
    "tweet_txt=rmv_numbers_from_txt\n",
    "words=tweet_txt.split(\" \")\n",
    "nlp_words=nltk.FreqDist(words).most_common(25)\n",
    "\n",
    "df_freq=pd.DataFrame(nlp_words, columns=['word', 'frequency'])\n",
    "df_freq.head()"
   ]
  },
  {
   "cell_type": "code",
   "execution_count": 15,
   "metadata": {},
   "outputs": [
    {
     "data": {
      "image/png": "[encoded data removed]",
      "text/plain": [
       "<Figure size 576x576 with 1 Axes>"
      ]
     },
     "metadata": {},
     "output_type": "display_data"
    }
   ],
   "source": [
    "fig,ax=plt.subplots(figsize=(8,8))\n",
    "\n",
    "df_freq.sort_values(by='frequency').plot.barh(x=\"word\",y=\"frequency\",ax=ax)\n",
    "ax.set_title(\"Frequent Words during 10 days\")\n",
    "plt.show()"
   ]
  },
  {
   "cell_type": "code",
   "execution_count": null,
   "metadata": {},
   "outputs": [],
   "source": []
  },
  {
   "cell_type": "code",
   "execution_count": null,
   "metadata": {},
   "outputs": [],
   "source": []
  }
 ],
 "metadata": {
  "colab": {
   "name": "EDA.ipynb",
   "provenance": []
  },
  "kernelspec": {
   "display_name": "Python 3",
   "language": "python",
   "name": "python3"
  },
  "language_info": {
   "codemirror_mode": {
    "name": "ipython",
    "version": 3
   },
   "file_extension": ".py",
   "mimetype": "text/x-python",
   "name": "python",
   "nbconvert_exporter": "python",
   "pygments_lexer": "ipython3",
   "version": "3.7.4"
  }
 },
 "nbformat": 4,
 "nbformat_minor": 1
}
