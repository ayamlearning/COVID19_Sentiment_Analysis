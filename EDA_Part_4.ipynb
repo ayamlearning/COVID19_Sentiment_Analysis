{
 "cells": [
  {
   "cell_type": "markdown",
   "metadata": {},
   "source": [
    "# Objective\n",
    "- To classify the tweets as either positive, negative or neutral\n",
    "- To visualise each of the 3 categories"
   ]
  },
  {
   "cell_type": "code",
   "execution_count": 10,
   "metadata": {},
   "outputs": [],
   "source": [
    "#packages we will need to achieve our objectives\n",
    "import pandas as pd\n",
    "import seaborn as sns\n",
    "import matplotlib.pyplot as plt\n",
    "sns.set(style=\"ticks\", color_codes=True)"
   ]
  },
  {
   "cell_type": "code",
   "execution_count": 11,
   "metadata": {},
   "outputs": [
    {
     "data": {
      "text/html": [
       "<div>\n",
       "<style scoped>\n",
       "    .dataframe tbody tr th:only-of-type {\n",
       "        vertical-align: middle;\n",
       "    }\n",
       "\n",
       "    .dataframe tbody tr th {\n",
       "        vertical-align: top;\n",
       "    }\n",
       "\n",
       "    .dataframe thead th {\n",
       "        text-align: right;\n",
       "    }\n",
       "</style>\n",
       "<table border=\"1\" class=\"dataframe\">\n",
       "  <thead>\n",
       "    <tr style=\"text-align: right;\">\n",
       "      <th></th>\n",
       "      <th>Unnamed: 0</th>\n",
       "      <th>Hashtags</th>\n",
       "      <th>Sentiment</th>\n",
       "      <th>SentimentClass</th>\n",
       "      <th>date</th>\n",
       "      <th>geo</th>\n",
       "      <th>id</th>\n",
       "      <th>retweets</th>\n",
       "      <th>text</th>\n",
       "      <th>username</th>\n",
       "    </tr>\n",
       "  </thead>\n",
       "  <tbody>\n",
       "    <tr>\n",
       "      <td>0</td>\n",
       "      <td>0</td>\n",
       "      <td>NaN</td>\n",
       "      <td>-0.5</td>\n",
       "      <td>Negative</td>\n",
       "      <td>2020-05-13 07:07:33+00:00</td>\n",
       "      <td>NaN</td>\n",
       "      <td>1260466697661808642</td>\n",
       "      <td>0</td>\n",
       "      <td>Zambia May Not Get IMF Covid Loan Because It H...</td>\n",
       "      <td>ZambianObserver</td>\n",
       "    </tr>\n",
       "  </tbody>\n",
       "</table>\n",
       "</div>"
      ],
      "text/plain": [
       "   Unnamed: 0 Hashtags  Sentiment SentimentClass                       date  \\\n",
       "0           0      NaN       -0.5       Negative  2020-05-13 07:07:33+00:00   \n",
       "\n",
       "   geo                   id  retweets  \\\n",
       "0  NaN  1260466697661808642         0   \n",
       "\n",
       "                                                text         username  \n",
       "0  Zambia May Not Get IMF Covid Loan Because It H...  ZambianObserver  "
      ]
     },
     "execution_count": 11,
     "metadata": {},
     "output_type": "execute_result"
    }
   ],
   "source": [
    "#fetching our data\n",
    "path = 'data/processed'\n",
    "df = pd.read_csv(path+\"/COVID19_ZM_transformedTweets.csv\")\n",
    "df.head(1)"
   ]
  },
  {
   "cell_type": "code",
   "execution_count": 12,
   "metadata": {},
   "outputs": [
    {
     "data": {
      "text/html": [
       "<div>\n",
       "<style scoped>\n",
       "    .dataframe tbody tr th:only-of-type {\n",
       "        vertical-align: middle;\n",
       "    }\n",
       "\n",
       "    .dataframe tbody tr th {\n",
       "        vertical-align: top;\n",
       "    }\n",
       "\n",
       "    .dataframe thead th {\n",
       "        text-align: right;\n",
       "    }\n",
       "</style>\n",
       "<table border=\"1\" class=\"dataframe\">\n",
       "  <thead>\n",
       "    <tr style=\"text-align: right;\">\n",
       "      <th></th>\n",
       "      <th>Unnamed: 0</th>\n",
       "      <th>Hashtags</th>\n",
       "      <th>Sentiment</th>\n",
       "      <th>SentimentClass</th>\n",
       "      <th>date</th>\n",
       "      <th>geo</th>\n",
       "      <th>id</th>\n",
       "      <th>retweets</th>\n",
       "      <th>text</th>\n",
       "      <th>username</th>\n",
       "      <th>created_at</th>\n",
       "    </tr>\n",
       "  </thead>\n",
       "  <tbody>\n",
       "    <tr>\n",
       "      <td>0</td>\n",
       "      <td>0</td>\n",
       "      <td>NaN</td>\n",
       "      <td>-0.5</td>\n",
       "      <td>Negative</td>\n",
       "      <td>2020-05-13</td>\n",
       "      <td>NaN</td>\n",
       "      <td>1260466697661808642</td>\n",
       "      <td>0</td>\n",
       "      <td>Zambia May Not Get IMF Covid Loan Because It H...</td>\n",
       "      <td>ZambianObserver</td>\n",
       "      <td>2020-05-13 07:07:33+00:00</td>\n",
       "    </tr>\n",
       "  </tbody>\n",
       "</table>\n",
       "</div>"
      ],
      "text/plain": [
       "   Unnamed: 0 Hashtags  Sentiment SentimentClass        date  geo  \\\n",
       "0           0      NaN       -0.5       Negative  2020-05-13  NaN   \n",
       "\n",
       "                    id  retweets  \\\n",
       "0  1260466697661808642         0   \n",
       "\n",
       "                                                text         username  \\\n",
       "0  Zambia May Not Get IMF Covid Loan Because It H...  ZambianObserver   \n",
       "\n",
       "                 created_at  \n",
       "0 2020-05-13 07:07:33+00:00  "
      ]
     },
     "execution_count": 12,
     "metadata": {},
     "output_type": "execute_result"
    }
   ],
   "source": [
    "#renaming the date column to created_at\n",
    "df['created_at'] =  pd.to_datetime(df['date'])\n",
    "#extracting the date from the created at column and making a date column\n",
    "df['date'] =  pd.to_datetime(df['created_at']).dt.date\n",
    "df.head(1)"
   ]
  },
  {
   "cell_type": "code",
   "execution_count": 15,
   "metadata": {},
   "outputs": [
    {
     "data": {
      "text/plain": [
       "SentimentClass\n",
       "Negative     811\n",
       "Neutral     1824\n",
       "Positive    2597\n",
       "Name: SentimentClass, dtype: int64"
      ]
     },
     "execution_count": 15,
     "metadata": {},
     "output_type": "execute_result"
    }
   ],
   "source": [
    "#We group each of sentiments by the class and count\n",
    "df.groupby('SentimentClass')['SentimentClass'].count()"
   ]
  },
  {
   "cell_type": "code",
   "execution_count": 4,
   "metadata": {},
   "outputs": [
    {
     "data": {
      "image/png": "[encoded data removed]",
      "text/plain": [
       "<Figure size 432x288 with 1 Axes>"
      ]
     },
     "metadata": {
      "needs_background": "light"
     },
     "output_type": "display_data"
    }
   ],
   "source": [
    "\n",
    "df.groupby('SentimentClass')['SentimentClass'].count().plot(kind='bar', color=([\"red\",\"green\",\"blue\"]))\n",
    "plt.show()"
   ]
  },
  {
   "cell_type": "code",
   "execution_count": 5,
   "metadata": {},
   "outputs": [
    {
     "data": {
      "text/plain": [
       "SentimentClass\n",
       "Negative     811\n",
       "Neutral     1824\n",
       "Positive    2597\n",
       "Name: SentimentClass, dtype: int64"
      ]
     },
     "execution_count": 5,
     "metadata": {},
     "output_type": "execute_result"
    }
   ],
   "source": []
  },
  {
   "cell_type": "code",
   "execution_count": null,
   "metadata": {},
   "outputs": [],
   "source": []
  },
  {
   "cell_type": "code",
   "execution_count": null,
   "metadata": {},
   "outputs": [],
   "source": []
  }
 ],
 "metadata": {
  "kernelspec": {
   "display_name": "Python 3",
   "language": "python",
   "name": "python3"
  },
  "language_info": {
   "codemirror_mode": {
    "name": "ipython",
    "version": 3
   },
   "file_extension": ".py",
   "mimetype": "text/x-python",
   "name": "python",
   "nbconvert_exporter": "python",
   "pygments_lexer": "ipython3",
   "version": "3.7.4"
  }
 },
 "nbformat": 4,
 "nbformat_minor": 2
}
