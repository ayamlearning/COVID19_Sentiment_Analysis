{
 "cells": [
  {
   "cell_type": "markdown",
   "metadata": {},
   "source": [
    "# Objective\n",
    "- To extract keywords from the 15th of March to the 12th of May 2020\n",
    "- To plot 25 keywords with the most frequency"
   ]
  },
  {
   "cell_type": "code",
   "execution_count": 1,
   "metadata": {
    "colab": {
     "base_uri": "https://localhost:8080/",
     "height": 146
    },
    "colab_type": "code",
    "id": "5b5kFeDuU_CU",
    "outputId": "08c7bb02-ae82-493e-9221-a9ad48196f3b"
   },
   "outputs": [
    {
     "name": "stderr",
     "output_type": "stream",
     "text": [
      "[nltk_data] Downloading package stopwords to /home/yas/nltk_data...\n",
      "[nltk_data]   Package stopwords is already up-to-date!\n"
     ]
    }
   ],
   "source": [
    "#packages we will need to achieve our objectives\n",
    "import pandas as pd\n",
    "import utils"
   ]
  },
  {
   "cell_type": "code",
   "execution_count": 2,
   "metadata": {
    "colab": {
     "base_uri": "https://localhost:8080/",
     "height": 1000
    },
    "colab_type": "code",
    "id": "3RcVNaJZU_Cq",
    "outputId": "93976021-637b-4268-e416-e4e3b1d5689d"
   },
   "outputs": [
    {
     "data": {
      "text/html": [
       "<div>\n",
       "<style scoped>\n",
       "    .dataframe tbody tr th:only-of-type {\n",
       "        vertical-align: middle;\n",
       "    }\n",
       "\n",
       "    .dataframe tbody tr th {\n",
       "        vertical-align: top;\n",
       "    }\n",
       "\n",
       "    .dataframe thead th {\n",
       "        text-align: right;\n",
       "    }\n",
       "</style>\n",
       "<table border=\"1\" class=\"dataframe\">\n",
       "  <thead>\n",
       "    <tr style=\"text-align: right;\">\n",
       "      <th></th>\n",
       "      <th>Unnamed: 0</th>\n",
       "      <th>id</th>\n",
       "      <th>username</th>\n",
       "      <th>text</th>\n",
       "      <th>created_at</th>\n",
       "      <th>date</th>\n",
       "      <th>retweets</th>\n",
       "      <th>hashtags</th>\n",
       "      <th>geo</th>\n",
       "      <th>Sentiment</th>\n",
       "      <th>SentimentClass</th>\n",
       "    </tr>\n",
       "  </thead>\n",
       "  <tbody>\n",
       "    <tr>\n",
       "      <td>0</td>\n",
       "      <td>0</td>\n",
       "      <td>1260707670950137856</td>\n",
       "      <td>COVID19_bot</td>\n",
       "      <td>Evolution of cases in Botswana, Burundi, Centr...</td>\n",
       "      <td>2020-05-13 23:05:06+00:00</td>\n",
       "      <td>2020-05-13</td>\n",
       "      <td>1</td>\n",
       "      <td>NaN</td>\n",
       "      <td>NaN</td>\n",
       "      <td>0.133333</td>\n",
       "      <td>Positive</td>\n",
       "    </tr>\n",
       "  </tbody>\n",
       "</table>\n",
       "</div>"
      ],
      "text/plain": [
       "   Unnamed: 0                   id     username  \\\n",
       "0           0  1260707670950137856  COVID19_bot   \n",
       "\n",
       "                                                text  \\\n",
       "0  Evolution of cases in Botswana, Burundi, Centr...   \n",
       "\n",
       "                  created_at        date  retweets hashtags  geo  Sentiment  \\\n",
       "0  2020-05-13 23:05:06+00:00  2020-05-13         1      NaN  NaN   0.133333   \n",
       "\n",
       "  SentimentClass  \n",
       "0       Positive  "
      ]
     },
     "execution_count": 2,
     "metadata": {},
     "output_type": "execute_result"
    }
   ],
   "source": [
    "#fetching our data\n",
    "path = 'data/processed'\n",
    "df = pd.read_csv(path+\"/COVID19_ZM_transformedTweets.csv\")\n",
    "df.head(1)"
   ]
  },
  {
   "cell_type": "code",
   "execution_count": 3,
   "metadata": {},
   "outputs": [
    {
     "data": {
      "text/html": [
       "<div>\n",
       "<style scoped>\n",
       "    .dataframe tbody tr th:only-of-type {\n",
       "        vertical-align: middle;\n",
       "    }\n",
       "\n",
       "    .dataframe tbody tr th {\n",
       "        vertical-align: top;\n",
       "    }\n",
       "\n",
       "    .dataframe thead th {\n",
       "        text-align: right;\n",
       "    }\n",
       "</style>\n",
       "<table border=\"1\" class=\"dataframe\">\n",
       "  <thead>\n",
       "    <tr style=\"text-align: right;\">\n",
       "      <th></th>\n",
       "      <th>Unnamed: 0</th>\n",
       "      <th>id</th>\n",
       "      <th>username</th>\n",
       "      <th>text</th>\n",
       "      <th>created_at</th>\n",
       "      <th>date</th>\n",
       "      <th>retweets</th>\n",
       "      <th>hashtags</th>\n",
       "      <th>geo</th>\n",
       "      <th>Sentiment</th>\n",
       "      <th>SentimentClass</th>\n",
       "    </tr>\n",
       "  </thead>\n",
       "  <tbody>\n",
       "    <tr>\n",
       "      <td>0</td>\n",
       "      <td>0</td>\n",
       "      <td>1260707670950137856</td>\n",
       "      <td>COVID19_bot</td>\n",
       "      <td>Evolution of cases in Botswana, Burundi, Centr...</td>\n",
       "      <td>2020-05-13</td>\n",
       "      <td>2020-05-13</td>\n",
       "      <td>1</td>\n",
       "      <td>NaN</td>\n",
       "      <td>NaN</td>\n",
       "      <td>0.133333</td>\n",
       "      <td>Positive</td>\n",
       "    </tr>\n",
       "  </tbody>\n",
       "</table>\n",
       "</div>"
      ],
      "text/plain": [
       "   Unnamed: 0                   id     username  \\\n",
       "0           0  1260707670950137856  COVID19_bot   \n",
       "\n",
       "                                                text created_at        date  \\\n",
       "0  Evolution of cases in Botswana, Burundi, Centr... 2020-05-13  2020-05-13   \n",
       "\n",
       "   retweets hashtags  geo  Sentiment SentimentClass  \n",
       "0         1      NaN  NaN   0.133333       Positive  "
      ]
     },
     "execution_count": 3,
     "metadata": {},
     "output_type": "execute_result"
    }
   ],
   "source": [
    "#renaming the date column to created_at\n",
    "df['created_at'] =  pd.to_datetime(df['date'])\n",
    "#extracting the date from the created at column and making a date column\n",
    "df['date'] =  pd.to_datetime(df['created_at']).dt.date\n",
    "df.head(1)"
   ]
  },
  {
   "cell_type": "code",
   "execution_count": 40,
   "metadata": {
    "colab": {
     "base_uri": "https://localhost:8080/",
     "height": 182
    },
    "colab_type": "code",
    "id": "a3xue51WfM3Q",
    "outputId": "527cc49f-9f34-48f5-b104-43b002694a28"
   },
   "outputs": [],
   "source": [
    "#Words we dont regard as keywords\n",
    "meanless_words=['rt','help','day','bit','virus','fight','pandemic','angola','corona','read','world', \\\n",
    "                    'due','deaths','http','https','amid','time','via','www','people','amp','dr','com','today','health', \\\n",
    "                    'minister','covid_19','countries','covid-19','zambia','covid','coronavirus', \\\n",
    "                   'cases','new','last','recorded','update','24hrs','test','covid19','na','ya','wa','p', \\\n",
    "                    'one','us','mwebantu','confirmed','number','tested','positive','one','igshid', \\\n",
    "                    'done','public','tests','recorded','case','records','active','know','ghana','get', \\\n",
    "                    'like','says','stands','total','need','free','namibia','first','still','two', 'hours',\n",
    "                    'botswana','let','burundi','may', 'central' ,'african','republic','country', 'cote','ivoire', \\\n",
    "                    'eritrea','tests','ethiopia','ly', 'kenya', 'malawi','zimbabwe','news', 'mozambique', \\\n",
    "                    'namibia','rwanda','president','south','nigeria','chitalu','facebook','town','africa', \\\n",
    "                    '100th','eswatini','recorded','uganda','must','also','instagram','covid19zambia','zambia','southafrica']\n",
    "\n",
    "\n",
    "#Extracting only the text column from the tweets\n",
    "tweet_txt=df[\"text\"]\n",
    "\n",
    "#Merging the entire text column so it becomes one corpus\n",
    "merged_text_col=utils.merge_df_col_val(tweet_txt)\n",
    "\n",
    "#Removing the RT username from the tweets\n",
    "remove_RT_from_text=utils.remove_RT(merged_text_col)\n",
    "\n",
    "#Removing all punctuation marks from the tweets\n",
    "punct_rmvd_from_txt=utils.remove_punct_marks(merged_text_col)\n",
    "\n",
    "#removing works that have no meaning such as is, as , the from the text\n",
    "stp_wrds_rmvd_from_txt=utils.remove_stop_words(punct_rmvd_from_txt)\n",
    "\n",
    "#Removing the words that have meaning but not considered keywords\n",
    "meanless_wrds_rmvd_from_txt=utils.remove_meaninglesswords(stp_wrds_rmvd_from_txt,meanless_words)\n",
    "\n",
    "#Removing numbers frm the text\n",
    "rmv_numbers_from_txt=utils.remove_numeric(meanless_wrds_rmvd_from_txt)"
   ]
  },
  {
   "cell_type": "code",
   "execution_count": 41,
   "metadata": {},
   "outputs": [
    {
     "data": {
      "text/html": [
       "<div>\n",
       "<style scoped>\n",
       "    .dataframe tbody tr th:only-of-type {\n",
       "        vertical-align: middle;\n",
       "    }\n",
       "\n",
       "    .dataframe tbody tr th {\n",
       "        vertical-align: top;\n",
       "    }\n",
       "\n",
       "    .dataframe thead th {\n",
       "        text-align: right;\n",
       "    }\n",
       "</style>\n",
       "<table border=\"1\" class=\"dataframe\">\n",
       "  <thead>\n",
       "    <tr style=\"text-align: right;\">\n",
       "      <th></th>\n",
       "      <th>word</th>\n",
       "      <th>frequency</th>\n",
       "    </tr>\n",
       "  </thead>\n",
       "  <tbody>\n",
       "    <tr>\n",
       "      <td>0</td>\n",
       "      <td>tanzania</td>\n",
       "      <td>415</td>\n",
       "    </tr>\n",
       "    <tr>\n",
       "      <td>1</td>\n",
       "      <td>lusaka</td>\n",
       "      <td>256</td>\n",
       "    </tr>\n",
       "    <tr>\n",
       "      <td>2</td>\n",
       "      <td>death</td>\n",
       "      <td>246</td>\n",
       "    </tr>\n",
       "    <tr>\n",
       "      <td>3</td>\n",
       "      <td>zambian</td>\n",
       "      <td>213</td>\n",
       "    </tr>\n",
       "    <tr>\n",
       "      <td>4</td>\n",
       "      <td>border</td>\n",
       "      <td>204</td>\n",
       "    </tr>\n",
       "  </tbody>\n",
       "</table>\n",
       "</div>"
      ],
      "text/plain": [
       "       word  frequency\n",
       "0  tanzania        415\n",
       "1    lusaka        256\n",
       "2     death        246\n",
       "3   zambian        213\n",
       "4    border        204"
      ]
     },
     "execution_count": 41,
     "metadata": {},
     "output_type": "execute_result"
    }
   ],
   "source": [
    "import matplotlib.pyplot as plt\n",
    "import seaborn as sns\n",
    "import nltk\n",
    "\n",
    "%matplotlib inline\n",
    "\n",
    "sns.set(rc={'figure.figsize':(11.7,8.27)})\n",
    "sns.set_style('darkgrid')\n",
    "\n",
    "#create freq and dist plot\n",
    "words=rmv_numbers_from_txt.split(\" \")\n",
    "nlp_words=nltk.FreqDist(words).most_common(25)\n",
    "\n",
    "df_freq=pd.DataFrame(nlp_words, columns=['word', 'frequency'])\n",
    "df_freq.head()"
   ]
  },
  {
   "cell_type": "code",
   "execution_count": 46,
   "metadata": {},
   "outputs": [
    {
     "data": {
      "image/png": "[encoded data removed]",
      "text/plain": [
       "<Figure size 576x576 with 1 Axes>"
      ]
     },
     "metadata": {},
     "output_type": "display_data"
    }
   ],
   "source": [
    "fig,ax=plt.subplots(figsize=(8,8))\n",
    "\n",
    "df_freq.sort_values(by='frequency').plot.barh(x=\"word\",y=\"frequency\",ax=ax)\n",
    "ax.set_title(\"Frequent keywords from 15th March to the 14th of May\")\n",
    "plt.show()\n",
    "plt.savefig(\"images/full.png\")\n",
    "plt.close()"
   ]
  },
  {
   "cell_type": "code",
   "execution_count": null,
   "metadata": {},
   "outputs": [],
   "source": []
  },
  {
   "cell_type": "code",
   "execution_count": null,
   "metadata": {},
   "outputs": [],
   "source": []
  }
 ],
 "metadata": {
  "colab": {
   "name": "EDA.ipynb",
   "provenance": []
  },
  "kernelspec": {
   "display_name": "Python 3",
   "language": "python",
   "name": "python3"
  },
  "language_info": {
   "codemirror_mode": {
    "name": "ipython",
    "version": 3
   },
   "file_extension": ".py",
   "mimetype": "text/x-python",
   "name": "python",
   "nbconvert_exporter": "python",
   "pygments_lexer": "ipython3",
   "version": "3.7.4"
  }
 },
 "nbformat": 4,
 "nbformat_minor": 1
}
